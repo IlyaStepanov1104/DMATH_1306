{
 "cells": [
  {
   "cell_type": "code",
   "execution_count": 1,
   "id": "1ad0a538-2691-4c94-8234-c136c500ade6",
   "metadata": {},
   "outputs": [],
   "source": [
    "from Integers import *\n",
    "from Dtypes import *"
   ]
  },
  {
   "cell_type": "code",
   "execution_count": 2,
   "id": "1b18796d-361a-467c-9b15-22e855221616",
   "metadata": {},
   "outputs": [
    {
     "name": "stdout",
     "output_type": "stream",
     "text": [
      "1111111111\n",
      "0\n",
      "9999999999\n",
      "1000000000\n"
     ]
    }
   ],
   "source": [
    "nli= []\n",
    "nli.append(NNumber('1'*10))\n",
    "nli.append(NNumber('0'*10))\n",
    "nli.append(NNumber('9'*10))\n",
    "nli.append(NNumber('1' + '0'*9))\n",
    "nnum1 = NNumber('123123123')\n",
    "print('\\n'.join([i.__str__() for i in nli]))"
   ]
  },
  {
   "cell_type": "code",
   "execution_count": 3,
   "id": "24e6a326-8afc-4996-8977-88275676e39d",
   "metadata": {},
   "outputs": [
    {
     "name": "stdout",
     "output_type": "stream",
     "text": [
      "0\n",
      "1\n",
      "2\n",
      "1\n"
     ]
    }
   ],
   "source": [
    "print('\\n'.join([str(COM_NN_D(i,nli[0])) for i in nli]))"
   ]
  },
  {
   "cell_type": "code",
   "execution_count": 4,
   "id": "a4e63096-7aad-4cd6-b4e1-215d7ce208cf",
   "metadata": {},
   "outputs": [
    {
     "name": "stdout",
     "output_type": "stream",
     "text": [
      "True\n",
      "False\n",
      "True\n",
      "True\n"
     ]
    }
   ],
   "source": [
    "print('\\n'.join([str(NZER_N_B(i)) for i in nli]))"
   ]
  },
  {
   "cell_type": "code",
   "execution_count": 5,
   "id": "4784fa8a-2957-4114-85a7-1f1ea30d46b9",
   "metadata": {},
   "outputs": [
    {
     "name": "stdout",
     "output_type": "stream",
     "text": [
      "1111111112\n",
      "1\n",
      "10000000000\n",
      "1000000001\n"
     ]
    }
   ],
   "source": [
    "print('\\n'.join([str(ADD_1N_N(i)) for i in nli]))"
   ]
  },
  {
   "cell_type": "code",
   "execution_count": 6,
   "id": "75e548c6-a85a-4112-a280-fcd2c7150456",
   "metadata": {},
   "outputs": [
    {
     "name": "stdout",
     "output_type": "stream",
     "text": [
      "1111234234\n",
      "123123\n",
      "10000123122\n",
      "1000123123\n"
     ]
    }
   ],
   "source": [
    "print('\\n'.join([str(ADD_NN_N(i,NNumber('123123'))) for i in nli]))"
   ]
  },
  {
   "cell_type": "code",
   "execution_count": 7,
   "id": "a270f079-eef3-4100-975b-5020b5b4fc74",
   "metadata": {},
   "outputs": [
    {
     "name": "stdout",
     "output_type": "stream",
     "text": [
      "0\n",
      "0\n",
      "0\n",
      "0\n"
     ]
    }
   ],
   "source": [
    "print('\\n'.join([str(SUB_NN_N(i,NNumber('1111111111111111111'))) for i in nli]))"
   ]
  },
  {
   "cell_type": "code",
   "execution_count": 8,
   "id": "df16aa32-2251-455d-a47d-b84967f34ba4",
   "metadata": {},
   "outputs": [
    {
     "name": "stdout",
     "output_type": "stream",
     "text": [
      "7777777777\n",
      "0\n",
      "69999999993\n",
      "7000000000\n"
     ]
    }
   ],
   "source": [
    "print('\\n'.join([str(MUL_ND_N(i,7)) for i in nli]))"
   ]
  },
  {
   "cell_type": "code",
   "execution_count": 9,
   "id": "6f4b8a82-71a0-4f4f-9127-8299bfe355e7",
   "metadata": {},
   "outputs": [
    {
     "name": "stdout",
     "output_type": "stream",
     "text": [
      "11111111110000000\n",
      "0\n",
      "99999999990000000\n",
      "10000000000000000\n"
     ]
    }
   ],
   "source": [
    "print('\\n'.join([str(MUL_Nk_N(i,7)) for i in nli]))"
   ]
  },
  {
   "cell_type": "code",
   "execution_count": 10,
   "id": "6c996037-9676-4a31-b97f-35c7dbc57842",
   "metadata": {},
   "outputs": [
    {
     "name": "stdout",
     "output_type": "stream",
     "text": [
      "111109999988889\n",
      "0\n",
      "999989999900001\n",
      "99999000000000\n"
     ]
    }
   ],
   "source": [
    "print('\\n'.join([str(MUL_NN_N(i,NNumber('99999'))) for i in nli]))"
   ]
  },
  {
   "cell_type": "code",
   "execution_count": 11,
   "id": "c73d5718-294b-4f0f-a1d8-71da2a69257d",
   "metadata": {},
   "outputs": [
    {
     "name": "stdout",
     "output_type": "stream",
     "text": [
      "Negative result\n",
      "1111111034\n",
      "None\n",
      "9999999922\n",
      "999999923\n"
     ]
    }
   ],
   "source": [
    "print('\\n'.join([str(SUB_NDN_N(i,77,NNumber('1'))) for i in nli]))"
   ]
  },
  {
   "cell_type": "code",
   "execution_count": 12,
   "id": "040cfbeb-60d1-4496-bcaa-5a694d2d4eb0",
   "metadata": {},
   "outputs": [
    {
     "name": "stdout",
     "output_type": "stream",
     "text": [
      "0\n",
      "0\n",
      "0\n",
      "0\n"
     ]
    }
   ],
   "source": [
    "print('\\n'.join([str(DIV_NN_Dk(i,NNumber('1000000000000000000'))) for i in nli]))"
   ]
  },
  {
   "cell_type": "code",
   "execution_count": 13,
   "id": "be051e33-eb05-44a5-b26a-6fa913569707",
   "metadata": {},
   "outputs": [
    {
     "name": "stdout",
     "output_type": "stream",
     "text": [
      "0\n",
      "0\n",
      "0\n",
      "0\n"
     ]
    }
   ],
   "source": [
    "print('\\n'.join([str(DIV_NN_Dk(i,NNumber('1000000000000000000'))) for i in nli]))"
   ]
  },
  {
   "cell_type": "code",
   "execution_count": null,
   "id": "6a10b405-96d1-483c-801f-4ea0dacc1d85",
   "metadata": {},
   "outputs": [],
   "source": []
  }
 ],
 "metadata": {
  "kernelspec": {
   "display_name": "Python 3 (ipykernel)",
   "language": "python",
   "name": "python3"
  },
  "language_info": {
   "codemirror_mode": {
    "name": "ipython",
    "version": 3
   },
   "file_extension": ".py",
   "mimetype": "text/x-python",
   "name": "python",
   "nbconvert_exporter": "python",
   "pygments_lexer": "ipython3",
   "version": "3.9.7"
  }
 },
 "nbformat": 4,
 "nbformat_minor": 5
}
