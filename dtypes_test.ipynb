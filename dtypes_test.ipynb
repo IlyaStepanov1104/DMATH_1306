{
 "cells": [
  {
   "cell_type": "code",
   "execution_count": 1,
   "id": "12ab7bac-ea3c-4983-81a8-eec2ee64de61",
   "metadata": {},
   "outputs": [],
   "source": [
    "from Dtypes import *"
   ]
  },
  {
   "cell_type": "markdown",
   "id": "9060f26d-47ce-4e56-90fb-23b2aec5abb1",
   "metadata": {},
   "source": [
    "Проверяем инициализацию NNumber"
   ]
  },
  {
   "cell_type": "code",
   "execution_count": 2,
   "id": "5d198da1-c1fc-43c5-b943-a3f2bfe7c37e",
   "metadata": {},
   "outputs": [
    {
     "name": "stdout",
     "output_type": "stream",
     "text": [
      "123 456\n",
      "[3, 2, 1] [6, 5, 4]\n",
      "2 2\n"
     ]
    }
   ],
   "source": [
    "nnum1 = NNumber('123') # можно задать строкой\n",
    "nnum2 = NNumber([4,5,6]) # можно задать списком\n",
    "print(nnum1,nnum2)\n",
    "print(nnum1.get_num(),nnum2.get_num()) # внутри представление обратное\n",
    "print(nnum1.get_rank(),nnum2.get_rank()) # 123 = 1 * 10^2 + 2*10^1 + 3 * 10^0, ранг = 2"
   ]
  },
  {
   "cell_type": "code",
   "execution_count": 3,
   "id": "b8bc53ed-4b2f-4b3f-8676-e11df4b91812",
   "metadata": {},
   "outputs": [
    {
     "name": "stdout",
     "output_type": "stream",
     "text": [
      "1\n",
      "- не может быть использовано в запиши NNumber\n",
      "<class 'float'> не может быть преобразован в NNumbers\n"
     ]
    }
   ],
   "source": [
    "nnum1= NNumber('0'*100+'1')\n",
    "print(nnum1)\n",
    "try:\n",
    "    nnum1=NNumber('-1')\n",
    "except:\n",
    "    print('- не может быть использовано в запиши NNumber')\n",
    "\n",
    "\n",
    "try:\n",
    "    NNumber(float(123.123))\n",
    "except:\n",
    "    print('<class \\'float\\'> не может быть преобразован в NNumbers')\n",
    "    "
   ]
  },
  {
   "cell_type": "markdown",
   "id": "e4d164ad-df22-4b7d-b8ad-98df94b3fce6",
   "metadata": {},
   "source": [
    "Проверяем Integer"
   ]
  },
  {
   "cell_type": "code",
   "execution_count": 4,
   "id": "e4061740-5c52-4df9-8933-cd1fd0e4762e",
   "metadata": {},
   "outputs": [
    {
     "name": "stdout",
     "output_type": "stream",
     "text": [
      "-123 -4567\n",
      "[3, 2, 1] [7, 6, 5, 4]\n",
      "2 3\n",
      "True True\n"
     ]
    }
   ],
   "source": [
    "inum1 = Integer('-123') # можно задать строкой\n",
    "inum2 = Integer([4,5,6,7], True) # можно задать списком с указанием знаком\n",
    "print(inum1,inum2)\n",
    "print(inum1.get_num(),inum2.get_num()) # внутри представление обратное\n",
    "print(inum1.get_rank(),inum2.get_rank()) # ранг также, как у NNumbers\n",
    "print(inum1.get_sign(),inum2.get_sign()) # знак"
   ]
  },
  {
   "cell_type": "code",
   "execution_count": 5,
   "id": "7007ce7a-ffd5-4cf1-9533-6463ccec8030",
   "metadata": {},
   "outputs": [
    {
     "name": "stdout",
     "output_type": "stream",
     "text": [
      "1\n",
      "b не может быть использовано в запиши NNumber\n",
      "<class 'float'> не может быть преобразован в Integer\n"
     ]
    }
   ],
   "source": [
    "inum1= Integer('0'*100+'1')\n",
    "print(inum1)\n",
    "try:\n",
    "    inum1=NNumber('biba')\n",
    "except:\n",
    "    print('b не может быть использовано в запиши NNumber')\n",
    "\n",
    "\n",
    "try:\n",
    "    Integer(float(123.123))\n",
    "except:\n",
    "    print('<class \\'float\\'> не может быть преобразован в Integer')"
   ]
  },
  {
   "cell_type": "markdown",
   "id": "2121f1fb-534c-43f9-bb79-a0c7d1dac339",
   "metadata": {},
   "source": [
    "Проверяем RNumber"
   ]
  },
  {
   "cell_type": "code",
   "execution_count": 6,
   "id": "a10053cf-228f-44c1-9d0c-3c2ef818631b",
   "metadata": {},
   "outputs": [
    {
     "name": "stdout",
     "output_type": "stream",
     "text": [
      "-12/987 1/456 -224/123\n",
      "<class 'Dtypes.Integer'> -224\n",
      "<class 'Dtypes.NNumber'> 123\n",
      "True False True\n",
      "-224/123\n"
     ]
    }
   ],
   "source": [
    "rnum1 = RNumber(Integer('-12'),NNumber('987')) # задаётся парой Integer,NNumber\n",
    "rnum2 = RNumber(inum1,nnum2) # Задать существующими объектами\n",
    "rnum3 = RNumber('-224/123') # Задать строкой ! (числитель/знаменатель сплитится по '/')\n",
    "print(rnum1,rnum2,rnum3)\n",
    "print(type(rnum1.get_num()),rnum3.get_num()) # Можно получить числитель (Объек типа Ingeter со всеми вытекающими функциями!)\n",
    "print(type(rnum1.get_den()), rnum3.get_den()) # Знаменатель, тоже объект\n",
    "print(rnum1.get_sign(),rnum2.get_sign(),rnum3.get_sign()) # знак числителя\n",
    "print(rnum3) # Удобный вывод для проверки\n",
    "\n"
   ]
  },
  {
   "cell_type": "code",
   "execution_count": 7,
   "id": "7bd8b486-6851-4658-9bc8-19577b80714d",
   "metadata": {},
   "outputs": [
    {
     "name": "stdout",
     "output_type": "stream",
     "text": [
      "Знаменатель отрицательный!\n"
     ]
    }
   ],
   "source": [
    "try:\n",
    "    print(RNumber('-01233333333333/0').get_den())\n",
    "except ZeroDivisionError:\n",
    "    print('Знаменатель отрицательный!')"
   ]
  },
  {
   "cell_type": "code",
   "execution_count": 8,
   "id": "6a8b2caa-df09-439c-b537-49983abf08d3",
   "metadata": {},
   "outputs": [
    {
     "name": "stdout",
     "output_type": "stream",
     "text": [
      "-12 1 -224\n",
      "-12  /  1\n"
     ]
    }
   ],
   "source": [
    "# также можно задать число без числителя\n",
    "# в таком случае знаменатель по стандарту является единицей \n",
    "rnum1 = RNumber(Integer('-12'))\n",
    "rnum2 = RNumber(inum1) \n",
    "rnum3 = RNumber('-224') \n",
    "print(rnum1,rnum2,rnum3)\n",
    "print(rnum1,' / ', rnum1.get_den()) # Можно получить числитель (Объек типа Ingeter со всеми вытекающими функциями!)"
   ]
  },
  {
   "cell_type": "markdown",
   "id": "8c45189b-a412-4814-9e7b-c9522e5f6a50",
   "metadata": {},
   "source": [
    "Проверяем ошибки"
   ]
  },
  {
   "cell_type": "code",
   "execution_count": 10,
   "id": "c109fc35-e9f1-4f6d-b2a5-6d7db42a4650",
   "metadata": {},
   "outputs": [],
   "source": [
    "pol1 = Polynomial('123/3 13/3 -12333/3')"
   ]
  },
  {
   "cell_type": "code",
   "execution_count": 11,
   "id": "dfc5f6d9-e0d0-444b-b60b-4b9d9eecbb28",
   "metadata": {},
   "outputs": [
    {
     "name": "stdout",
     "output_type": "stream",
     "text": [
      "(123/3)x^2(13/3)x^1 - (12333/3)\n"
     ]
    }
   ],
   "source": [
    "print(pol1)"
   ]
  },
  {
   "cell_type": "code",
   "execution_count": null,
   "id": "380fbf65-eebd-49b7-aafe-2e9bac28a894",
   "metadata": {},
   "outputs": [],
   "source": []
  }
 ],
 "metadata": {
  "kernelspec": {
   "display_name": "Python 3 (ipykernel)",
   "language": "python",
   "name": "python3"
  },
  "language_info": {
   "codemirror_mode": {
    "name": "ipython",
    "version": 3
   },
   "file_extension": ".py",
   "mimetype": "text/x-python",
   "name": "python",
   "nbconvert_exporter": "python",
   "pygments_lexer": "ipython3",
   "version": "3.9.7"
  }
 },
 "nbformat": 4,
 "nbformat_minor": 5
}
